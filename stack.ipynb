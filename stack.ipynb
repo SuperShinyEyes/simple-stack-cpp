{
 "cells": [
  {
   "cell_type": "code",
   "execution_count": 6,
   "metadata": {},
   "outputs": [
    {
     "ename": "StackFullError",
     "evalue": "StackFullError: You can't push to a full stack. The size of the stack is 5",
     "output_type": "error",
     "traceback": [
      "\u001b[0;31m---------------------------------------------------------------------------\u001b[0m",
      "\u001b[0;31mStackFullError\u001b[0m                            Traceback (most recent call last)",
      "Cell \u001b[0;32mIn[6], line 41\u001b[0m\n\u001b[1;32m     39\u001b[0m stack \u001b[38;5;241m=\u001b[39m Stack(\u001b[38;5;241m5\u001b[39m)\n\u001b[1;32m     40\u001b[0m \u001b[38;5;28;01mfor\u001b[39;00m i \u001b[38;5;129;01min\u001b[39;00m \u001b[38;5;28mrange\u001b[39m(\u001b[38;5;241m10\u001b[39m):\n\u001b[0;32m---> 41\u001b[0m     stack\u001b[38;5;241m.\u001b[39mpush(i)\n\u001b[1;32m     42\u001b[0m stack\u001b[38;5;241m.\u001b[39mpop()\n",
      "Cell \u001b[0;32mIn[6], line 33\u001b[0m, in \u001b[0;36mStack.push\u001b[0;34m(self, x)\u001b[0m\n\u001b[1;32m     31\u001b[0m \u001b[38;5;28;01mdef\u001b[39;00m \u001b[38;5;21mpush\u001b[39m(\u001b[38;5;28mself\u001b[39m, x):\n\u001b[1;32m     32\u001b[0m     \u001b[38;5;28;01mif\u001b[39;00m \u001b[38;5;28mself\u001b[39m\u001b[38;5;241m.\u001b[39m_is_full():\n\u001b[0;32m---> 33\u001b[0m         \u001b[38;5;28;01mraise\u001b[39;00m StackFullError(\u001b[38;5;124mf\u001b[39m\u001b[38;5;124m\"\u001b[39m\u001b[38;5;124mYou can\u001b[39m\u001b[38;5;124m'\u001b[39m\u001b[38;5;124mt push to a full stack. The size of the stack is \u001b[39m\u001b[38;5;132;01m{\u001b[39;00m\u001b[38;5;28mself\u001b[39m\u001b[38;5;241m.\u001b[39m_size\u001b[38;5;132;01m}\u001b[39;00m\u001b[38;5;124m\"\u001b[39m)\n\u001b[1;32m     34\u001b[0m     \u001b[38;5;28;01melse\u001b[39;00m:\n\u001b[1;32m     35\u001b[0m         \u001b[38;5;28mself\u001b[39m\u001b[38;5;241m.\u001b[39m_stack\u001b[38;5;241m.\u001b[39mappend(x)\n",
      "\u001b[0;31mStackFullError\u001b[0m: StackFullError: You can't push to a full stack. The size of the stack is 5"
     ]
    }
   ],
   "source": [
    "class StackError(Exception):\n",
    "    def __init__(self, message):\n",
    "        self.message = message\n",
    "        super().__init__(self.message)\n",
    "\n",
    "\n",
    "class StackEmptyError(StackError):\n",
    "    def __str__(self):\n",
    "        return f\"StackEmptyError: {self.message}\"\n",
    "\n",
    "\n",
    "class StackFullError(StackError):\n",
    "    def __str__(self):\n",
    "        return f\"StackFullError: {self.message}\"\n",
    "\n",
    "\n",
    "class Stack(object):\n",
    "    def __init__(self, size: int):\n",
    "        self._size = size\n",
    "        self._stack = []\n",
    "\n",
    "    @classmethod\n",
    "    def from_stack(cls)\n",
    "\n",
    "    def _is_full(self):\n",
    "        return len(self._stack) == self._size - 1\n",
    "\n",
    "    def pop(self):\n",
    "        if self._stack:\n",
    "            return self._stack.pop()\n",
    "        else:\n",
    "            raise StackEmptyError(\"You can't pop an empty stack.\")\n",
    "        \n",
    "    def push(self, x):\n",
    "        if self._is_full():\n",
    "            raise StackFullError(f\"You can't push to a full stack. The size of the stack is {self._size}\")\n",
    "        else:\n",
    "            self._stack.append(x)\n",
    "\n",
    "\n",
    "\n",
    "\n",
    "        \n",
    "stack = Stack(5)\n",
    "for i in range(10):\n",
    "    stack.push(i)\n",
    "stack.pop()"
   ]
  },
  {
   "cell_type": "code",
   "execution_count": null,
   "metadata": {},
   "outputs": [
    {
     "ename": "",
     "evalue": "",
     "output_type": "error",
     "traceback": [
      "\u001b[1;31mRunning cells with 'Python 3.12.5' requires the ipykernel package.\n",
      "\u001b[1;31mRun the following command to install 'ipykernel' into the Python environment. \n",
      "\u001b[1;31mCommand: '/opt/homebrew/bin/python3 -m pip install ipykernel -U --user --force-reinstall'"
     ]
    }
   ],
   "source": []
  },
  {
   "cell_type": "markdown",
   "metadata": {},
   "source": [
    "## Questions\n",
    "> Supports copy construction, move construction, copy assignment, and move assignment of the stack itself."
   ]
  },
  {
   "cell_type": "markdown",
   "metadata": {},
   "source": []
  }
 ],
 "metadata": {
  "kernelspec": {
   "display_name": "Python 3",
   "language": "python",
   "name": "python3"
  },
  "language_info": {
   "codemirror_mode": {
    "name": "ipython",
    "version": 3
   },
   "file_extension": ".py",
   "mimetype": "text/x-python",
   "name": "python",
   "nbconvert_exporter": "python",
   "pygments_lexer": "ipython3",
   "version": "3.12.4"
  }
 },
 "nbformat": 4,
 "nbformat_minor": 2
}
