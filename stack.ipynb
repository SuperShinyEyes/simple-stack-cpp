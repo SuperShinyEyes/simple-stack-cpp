{
 "cells": [
  {
   "cell_type": "code",
   "execution_count": 26,
   "metadata": {},
   "outputs": [],
   "source": [
    "class StackError(Exception):\n",
    "    def __init__(self, message):\n",
    "        self.message = message\n",
    "        super().__init__(self.message)\n",
    "\n",
    "class StackInvalidSizeError(StackError):\n",
    "    def __str__(self):\n",
    "        return f\"StackInvalidSizeError: {self.message}\"\n",
    "\n",
    "class StackEmptyError(StackError):\n",
    "    def __str__(self):\n",
    "        return f\"StackEmptyError: {self.message}\"\n",
    "\n",
    "\n",
    "class StackFullError(StackError):\n",
    "    def __str__(self):\n",
    "        return f\"StackFullError: {self.message}\"\n",
    "\n",
    "\n",
    "class Stack(object):\n",
    "    def __init__(self, size: int):\n",
    "        if size < 1 or not isinstance(size, int):\n",
    "            raise StackInvalidSizeError(f\"Invalid stack size argument: {size}. Should be larger than 0.\")\n",
    "\n",
    "        self._size = size\n",
    "        self._stack = []\n",
    "\n",
    "    @classmethod\n",
    "    def copy_constructor(cls, that):\n",
    "        new_stack = cls(that.size)\n",
    "        new_stack._stack = that._stack[:]\n",
    "        return new_stack\n",
    "    \n",
    "    @classmethod\n",
    "    def move_constructor(cls, that):\n",
    "        new_stack = cls(that.size)\n",
    "        new_stack._stack = that._stack\n",
    "        that._stack = None\n",
    "        return new_stack\n",
    "\n",
    "    @property\n",
    "    def size(self): \n",
    "        return self._size\n",
    "\n",
    "    def _is_full(self):\n",
    "        return len(self._stack) == self._size - 1\n",
    "\n",
    "    def pop(self):\n",
    "        if self._stack:\n",
    "            return self._stack.pop()\n",
    "        else:\n",
    "            raise StackEmptyError(\"You can't pop an empty stack.\")\n",
    "        \n",
    "    def push(self, x):\n",
    "        if self._is_full():\n",
    "            raise StackFullError(f\"You can't push to a full stack. The size of the stack is {self._size}\")\n",
    "        else:\n",
    "            self._stack.append(x)\n",
    "\n",
    "    def __str__(self) -> str:\n",
    "        return f\"Stack size: {self.size}. {self._stack}\"\n",
    "    \n",
    "    def __del__(self):\n",
    "        del self._stack\n",
    "        \n"
   ]
  },
  {
   "cell_type": "code",
   "execution_count": 24,
   "metadata": {},
   "outputs": [
    {
     "ename": "StackEmptyError",
     "evalue": "StackEmptyError: You can't pop an empty stack.",
     "output_type": "error",
     "traceback": [
      "\u001b[0;31m---------------------------------------------------------------------------\u001b[0m",
      "\u001b[0;31mStackEmptyError\u001b[0m                           Traceback (most recent call last)",
      "Cell \u001b[0;32mIn[24], line 5\u001b[0m\n\u001b[1;32m      2\u001b[0m     stack \u001b[38;5;241m=\u001b[39m Stack(\u001b[38;5;241m50\u001b[39m)\n\u001b[1;32m      3\u001b[0m     stack\u001b[38;5;241m.\u001b[39mpop()\n\u001b[0;32m----> 5\u001b[0m \u001b[43mtest_pop_error\u001b[49m\u001b[43m(\u001b[49m\u001b[43m)\u001b[49m\n",
      "Cell \u001b[0;32mIn[24], line 3\u001b[0m, in \u001b[0;36mtest_pop_error\u001b[0;34m()\u001b[0m\n\u001b[1;32m      1\u001b[0m \u001b[38;5;28;01mdef\u001b[39;00m \u001b[38;5;21mtest_pop_error\u001b[39m():\n\u001b[1;32m      2\u001b[0m     stack \u001b[38;5;241m=\u001b[39m Stack(\u001b[38;5;241m50\u001b[39m)\n\u001b[0;32m----> 3\u001b[0m     \u001b[43mstack\u001b[49m\u001b[38;5;241;43m.\u001b[39;49m\u001b[43mpop\u001b[49m\u001b[43m(\u001b[49m\u001b[43m)\u001b[49m\n",
      "Cell \u001b[0;32mIn[23], line 52\u001b[0m, in \u001b[0;36mStack.pop\u001b[0;34m(self)\u001b[0m\n\u001b[1;32m     50\u001b[0m     \u001b[38;5;28;01mreturn\u001b[39;00m \u001b[38;5;28mself\u001b[39m\u001b[38;5;241m.\u001b[39m_stack\u001b[38;5;241m.\u001b[39mpop()\n\u001b[1;32m     51\u001b[0m \u001b[38;5;28;01melse\u001b[39;00m:\n\u001b[0;32m---> 52\u001b[0m     \u001b[38;5;28;01mraise\u001b[39;00m StackEmptyError(\u001b[38;5;124m\"\u001b[39m\u001b[38;5;124mYou can\u001b[39m\u001b[38;5;124m'\u001b[39m\u001b[38;5;124mt pop an empty stack.\u001b[39m\u001b[38;5;124m\"\u001b[39m)\n",
      "\u001b[0;31mStackEmptyError\u001b[0m: StackEmptyError: You can't pop an empty stack."
     ]
    }
   ],
   "source": [
    "def test_pop_error():\n",
    "    stack = Stack(50)\n",
    "    stack.pop()\n",
    "\n",
    "test_pop_error()"
   ]
  },
  {
   "cell_type": "code",
   "execution_count": 27,
   "metadata": {},
   "outputs": [
    {
     "ename": "StackFullError",
     "evalue": "StackFullError: You can't push to a full stack. The size of the stack is 3",
     "output_type": "error",
     "traceback": [
      "\u001b[0;31m---------------------------------------------------------------------------\u001b[0m",
      "\u001b[0;31mStackFullError\u001b[0m                            Traceback (most recent call last)",
      "Cell \u001b[0;32mIn[27], line 6\u001b[0m\n\u001b[1;32m      3\u001b[0m     \u001b[38;5;28;01mfor\u001b[39;00m i \u001b[38;5;129;01min\u001b[39;00m \u001b[38;5;28mrange\u001b[39m(\u001b[38;5;241m10\u001b[39m):\n\u001b[1;32m      4\u001b[0m         stack\u001b[38;5;241m.\u001b[39mpush(i)\n\u001b[0;32m----> 6\u001b[0m \u001b[43mtest_push_error\u001b[49m\u001b[43m(\u001b[49m\u001b[43m)\u001b[49m\n",
      "Cell \u001b[0;32mIn[27], line 4\u001b[0m, in \u001b[0;36mtest_push_error\u001b[0;34m()\u001b[0m\n\u001b[1;32m      2\u001b[0m stack \u001b[38;5;241m=\u001b[39m Stack(\u001b[38;5;241m3\u001b[39m)\n\u001b[1;32m      3\u001b[0m \u001b[38;5;28;01mfor\u001b[39;00m i \u001b[38;5;129;01min\u001b[39;00m \u001b[38;5;28mrange\u001b[39m(\u001b[38;5;241m10\u001b[39m):\n\u001b[0;32m----> 4\u001b[0m     \u001b[43mstack\u001b[49m\u001b[38;5;241;43m.\u001b[39;49m\u001b[43mpush\u001b[49m\u001b[43m(\u001b[49m\u001b[43mi\u001b[49m\u001b[43m)\u001b[49m\n",
      "Cell \u001b[0;32mIn[26], line 56\u001b[0m, in \u001b[0;36mStack.push\u001b[0;34m(self, x)\u001b[0m\n\u001b[1;32m     54\u001b[0m \u001b[38;5;28;01mdef\u001b[39;00m \u001b[38;5;21mpush\u001b[39m(\u001b[38;5;28mself\u001b[39m, x):\n\u001b[1;32m     55\u001b[0m     \u001b[38;5;28;01mif\u001b[39;00m \u001b[38;5;28mself\u001b[39m\u001b[38;5;241m.\u001b[39m_is_full():\n\u001b[0;32m---> 56\u001b[0m         \u001b[38;5;28;01mraise\u001b[39;00m StackFullError(\u001b[38;5;124mf\u001b[39m\u001b[38;5;124m\"\u001b[39m\u001b[38;5;124mYou can\u001b[39m\u001b[38;5;124m'\u001b[39m\u001b[38;5;124mt push to a full stack. The size of the stack is \u001b[39m\u001b[38;5;132;01m{\u001b[39;00m\u001b[38;5;28mself\u001b[39m\u001b[38;5;241m.\u001b[39m_size\u001b[38;5;132;01m}\u001b[39;00m\u001b[38;5;124m\"\u001b[39m)\n\u001b[1;32m     57\u001b[0m     \u001b[38;5;28;01melse\u001b[39;00m:\n\u001b[1;32m     58\u001b[0m         \u001b[38;5;28mself\u001b[39m\u001b[38;5;241m.\u001b[39m_stack\u001b[38;5;241m.\u001b[39mappend(x)\n",
      "\u001b[0;31mStackFullError\u001b[0m: StackFullError: You can't push to a full stack. The size of the stack is 3"
     ]
    }
   ],
   "source": [
    "def test_push_error():\n",
    "    stack = Stack(3)\n",
    "    for i in range(10):\n",
    "        stack.push(i)\n",
    "\n",
    "test_push_error()"
   ]
  },
  {
   "cell_type": "code",
   "execution_count": 28,
   "metadata": {},
   "outputs": [
    {
     "ename": "StackInvalidSizeError",
     "evalue": "StackInvalidSizeError: Invalid stack size argument: 0. Should be larger than 0.",
     "output_type": "error",
     "traceback": [
      "\u001b[0;31m---------------------------------------------------------------------------\u001b[0m",
      "\u001b[0;31mStackInvalidSizeError\u001b[0m                     Traceback (most recent call last)",
      "Cell \u001b[0;32mIn[28], line 4\u001b[0m\n\u001b[1;32m      1\u001b[0m \u001b[38;5;28;01mdef\u001b[39;00m \u001b[38;5;21mtest_size_error\u001b[39m():\n\u001b[1;32m      2\u001b[0m     stack \u001b[38;5;241m=\u001b[39m Stack(\u001b[38;5;241m0\u001b[39m)\n\u001b[0;32m----> 4\u001b[0m \u001b[43mtest_size_error\u001b[49m\u001b[43m(\u001b[49m\u001b[43m)\u001b[49m\n",
      "Cell \u001b[0;32mIn[28], line 2\u001b[0m, in \u001b[0;36mtest_size_error\u001b[0;34m()\u001b[0m\n\u001b[1;32m      1\u001b[0m \u001b[38;5;28;01mdef\u001b[39;00m \u001b[38;5;21mtest_size_error\u001b[39m():\n\u001b[0;32m----> 2\u001b[0m     stack \u001b[38;5;241m=\u001b[39m \u001b[43mStack\u001b[49m\u001b[43m(\u001b[49m\u001b[38;5;241;43m0\u001b[39;49m\u001b[43m)\u001b[49m\n",
      "Cell \u001b[0;32mIn[26], line 23\u001b[0m, in \u001b[0;36mStack.__init__\u001b[0;34m(self, size)\u001b[0m\n\u001b[1;32m     21\u001b[0m \u001b[38;5;28;01mdef\u001b[39;00m \u001b[38;5;21m__init__\u001b[39m(\u001b[38;5;28mself\u001b[39m, size: \u001b[38;5;28mint\u001b[39m):\n\u001b[1;32m     22\u001b[0m     \u001b[38;5;28;01mif\u001b[39;00m size \u001b[38;5;241m<\u001b[39m \u001b[38;5;241m1\u001b[39m \u001b[38;5;129;01mor\u001b[39;00m \u001b[38;5;129;01mnot\u001b[39;00m \u001b[38;5;28misinstance\u001b[39m(size, \u001b[38;5;28mint\u001b[39m):\n\u001b[0;32m---> 23\u001b[0m         \u001b[38;5;28;01mraise\u001b[39;00m StackInvalidSizeError(\u001b[38;5;124mf\u001b[39m\u001b[38;5;124m\"\u001b[39m\u001b[38;5;124mInvalid stack size argument: \u001b[39m\u001b[38;5;132;01m{\u001b[39;00msize\u001b[38;5;132;01m}\u001b[39;00m\u001b[38;5;124m. Should be larger than 0.\u001b[39m\u001b[38;5;124m\"\u001b[39m)\n\u001b[1;32m     25\u001b[0m     \u001b[38;5;28mself\u001b[39m\u001b[38;5;241m.\u001b[39m_size \u001b[38;5;241m=\u001b[39m size\n\u001b[1;32m     26\u001b[0m     \u001b[38;5;28mself\u001b[39m\u001b[38;5;241m.\u001b[39m_stack \u001b[38;5;241m=\u001b[39m []\n",
      "\u001b[0;31mStackInvalidSizeError\u001b[0m: StackInvalidSizeError: Invalid stack size argument: 0. Should be larger than 0."
     ]
    }
   ],
   "source": [
    "def test_size_error():\n",
    "    stack = Stack(0)\n",
    "\n",
    "test_size_error()"
   ]
  },
  {
   "cell_type": "code",
   "execution_count": 13,
   "metadata": {},
   "outputs": [],
   "source": [
    "def test_move_constructor():\n",
    "    s1 = Stack(5); \n",
    "    for i in range(4):\n",
    "        s1.push(i)\n",
    "    s2 = Stack.move_constructor(s1)\n",
    "    \n",
    "    assert s2._stack == [i for i in range(4)]\n",
    "    assert s1._stack is None\n",
    "\n",
    "test_move_constructor()"
   ]
  },
  {
   "cell_type": "code",
   "execution_count": 17,
   "metadata": {},
   "outputs": [],
   "source": [
    "def test_copy_constructor():\n",
    "    s1 = Stack(5); \n",
    "    for i in range(4):\n",
    "        s1.push(i)\n",
    "    s2 = Stack.copy_constructor(s1)\n",
    "    \n",
    "    assert s2._stack == s1._stack\n",
    "    assert id(s2._stack) != id(s1._stack)\n",
    "\n",
    "test_copy_constructor()"
   ]
  },
  {
   "cell_type": "markdown",
   "metadata": {},
   "source": []
  }
 ],
 "metadata": {
  "kernelspec": {
   "display_name": "Python 3",
   "language": "python",
   "name": "python3"
  },
  "language_info": {
   "codemirror_mode": {
    "name": "ipython",
    "version": 3
   },
   "file_extension": ".py",
   "mimetype": "text/x-python",
   "name": "python",
   "nbconvert_exporter": "python",
   "pygments_lexer": "ipython3",
   "version": "3.9.12"
  }
 },
 "nbformat": 4,
 "nbformat_minor": 2
}
